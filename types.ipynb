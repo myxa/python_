{
 "cells": [
  {
   "attachments": {},
   "cell_type": "markdown",
   "metadata": {},
   "source": [
    "# Типы данных"
   ]
  },
  {
   "attachments": {},
   "cell_type": "markdown",
   "metadata": {},
   "source": [
    "## Int и float\n"
   ]
  },
  {
   "attachments": {},
   "cell_type": "markdown",
   "metadata": {},
   "source": [
    "Int - просто целое число. Float - как double в матлабе"
   ]
  },
  {
   "cell_type": "code",
   "execution_count": 6,
   "metadata": {},
   "outputs": [
    {
     "name": "stdout",
     "output_type": "stream",
     "text": [
      "<class 'int'> 3\n",
      "<class 'float'> 3.0\n"
     ]
    }
   ],
   "source": [
    "q = 3.5\n",
    "\n",
    "# преобразование числа float в int\n",
    "q = int(q)\n",
    "print(type(q), q)\n",
    "\n",
    "# преобразование числа int в float\n",
    "q = float(q)\n",
    "print(type(q), q)"
   ]
  },
  {
   "attachments": {},
   "cell_type": "markdown",
   "metadata": {},
   "source": [
    "Математические операторы"
   ]
  },
  {
   "cell_type": "code",
   "execution_count": 19,
   "metadata": {},
   "outputs": [
    {
     "name": "stdout",
     "output_type": "stream",
     "text": [
      "q =  3.0\n",
      "возведение в степень q ** 2 = 9.0\n",
      "возведение в степень pow(q, 2) =  9.0\n",
      "целочисленное деление q // 2 = 1.0\n",
      "остаток от деления q % 2 = 1.0\n"
     ]
    }
   ],
   "source": [
    "q +=2 # <=> q = q + 2\n",
    "q -=2\n",
    "q *=2\n",
    "q /=2\n",
    "\n",
    "print('q = ', q)\n",
    "print('возведение в степень q ** 2 =', q ** 2)\n",
    "print('возведение в степень pow(q, 2) = ', pow(q, 2))\n",
    "print('целочисленное деление q // 2 =', q // 2)\n",
    "print('остаток от деления q % 2 =', q % 2)"
   ]
  },
  {
   "attachments": {},
   "cell_type": "markdown",
   "metadata": {},
   "source": [
    "Для других операций используются модули, например, встроенный в питон модуль math"
   ]
  },
  {
   "cell_type": "code",
   "execution_count": 2,
   "metadata": {},
   "outputs": [
    {
     "data": {
      "text/plain": [
       "1.0"
      ]
     },
     "execution_count": 2,
     "metadata": {},
     "output_type": "execute_result"
    }
   ],
   "source": [
    "from math import sin, cos, tan, pi\n",
    "# в этом случае нам доступны только те функции, которые мы взяли из пакета\n",
    "print(sin(pi / 2))"
   ]
  },
  {
   "cell_type": "code",
   "execution_count": 4,
   "metadata": {},
   "outputs": [
    {
     "ename": "NameError",
     "evalue": "name 'math' is not defined",
     "output_type": "error",
     "traceback": [
      "\u001b[1;31m---------------------------------------------------------------------------\u001b[0m",
      "\u001b[1;31mNameError\u001b[0m                                 Traceback (most recent call last)",
      "\u001b[1;32m~\\AppData\\Local\\Temp\\ipykernel_9212\\3386753787.py\u001b[0m in \u001b[0;36m<module>\u001b[1;34m\u001b[0m\n\u001b[0;32m      3\u001b[0m \u001b[1;33m\u001b[0m\u001b[0m\n\u001b[0;32m      4\u001b[0m \u001b[1;31m# но сам пакет math мы не импортируем, поэтому в этом случае вылезет ошибка\u001b[0m\u001b[1;33m\u001b[0m\u001b[1;33m\u001b[0m\u001b[1;33m\u001b[0m\u001b[0m\n\u001b[1;32m----> 5\u001b[1;33m \u001b[0mmath\u001b[0m\u001b[1;33m.\u001b[0m\u001b[0msqrt\u001b[0m\u001b[1;33m(\u001b[0m\u001b[1;36m64\u001b[0m\u001b[1;33m)\u001b[0m\u001b[1;33m\u001b[0m\u001b[1;33m\u001b[0m\u001b[0m\n\u001b[0m",
      "\u001b[1;31mNameError\u001b[0m: name 'math' is not defined"
     ]
    }
   ],
   "source": [
    "from math import *\n",
    "# * значит, что мы импортируем все функции, которые есть в math\n",
    "\n",
    "# но сам модуль math мы не импортируем, поэтому в этом случае вылезет ошибка\n",
    "math.sqrt(64)"
   ]
  },
  {
   "attachments": {},
   "cell_type": "markdown",
   "metadata": {},
   "source": [
    "Предпочтительнее импортировать либо весь модуль, либо только несколько нужных функций, чтобы не было ошибок и переопределение имен функций или переменных:"
   ]
  },
  {
   "cell_type": "code",
   "execution_count": 3,
   "metadata": {},
   "outputs": [
    {
     "data": {
      "text/plain": [
       "16.0"
      ]
     },
     "execution_count": 3,
     "metadata": {},
     "output_type": "execute_result"
    }
   ],
   "source": [
    "import math\n",
    "# если импортируем модуль таким образом, то обращаться к функциям надо так:\n",
    "math.sqrt(256)"
   ]
  },
  {
   "attachments": {},
   "cell_type": "markdown",
   "metadata": {},
   "source": [
    "Переопределение переменных и имен функций "
   ]
  },
  {
   "cell_type": "code",
   "execution_count": 10,
   "metadata": {},
   "outputs": [
    {
     "ename": "TypeError",
     "evalue": "'int' object is not callable",
     "output_type": "error",
     "traceback": [
      "\u001b[1;31m---------------------------------------------------------------------------\u001b[0m",
      "\u001b[1;31mTypeError\u001b[0m                                 Traceback (most recent call last)",
      "\u001b[1;32m~\\AppData\\Local\\Temp\\ipykernel_9212\\3882010783.py\u001b[0m in \u001b[0;36m<module>\u001b[1;34m\u001b[0m\n\u001b[0;32m      1\u001b[0m \u001b[1;31m# если назвать переменную как какую-то функцию, то она перестанет быть функцией\u001b[0m\u001b[1;33m\u001b[0m\u001b[1;33m\u001b[0m\u001b[1;33m\u001b[0m\u001b[0m\n\u001b[0;32m      2\u001b[0m \u001b[0msin\u001b[0m \u001b[1;33m=\u001b[0m \u001b[1;36m5\u001b[0m\u001b[1;33m\u001b[0m\u001b[1;33m\u001b[0m\u001b[0m\n\u001b[1;32m----> 3\u001b[1;33m \u001b[0msin\u001b[0m\u001b[1;33m(\u001b[0m\u001b[1;36m2\u001b[0m\u001b[1;33m)\u001b[0m\u001b[1;33m\u001b[0m\u001b[1;33m\u001b[0m\u001b[0m\n\u001b[0m",
      "\u001b[1;31mTypeError\u001b[0m: 'int' object is not callable"
     ]
    }
   ],
   "source": [
    "# если назвать переменную как какую-то функцию, то она перестанет быть функцией\n",
    "sin = 5\n",
    "sin(2)\n",
    "# чтобы это починить, надо заново импортировать эту функцию"
   ]
  },
  {
   "cell_type": "code",
   "execution_count": null,
   "metadata": {},
   "outputs": [],
   "source": [
    "\n",
    "# не следует нзывать переменные именами, которые используются питоном\n",
    "# они обычно подсвечиваются другим цветом\n",
    "del \n",
    "file\n",
    "lambda\n",
    "math \n",
    "int\n",
    "\n",
    "\n",
    "# обычные переменные просто черные или белые\n",
    "a \n",
    "b"
   ]
  },
  {
   "cell_type": "code",
   "execution_count": 29,
   "metadata": {},
   "outputs": [
    {
     "name": "stdout",
     "output_type": "stream",
     "text": [
      "Variable    Type                          Data/Info\n",
      "---------------------------------------------------\n",
      "acos        builtin_function_or_method    <built-in function acos>\n",
      "acosh       builtin_function_or_method    <built-in function acosh>\n",
      "asin        builtin_function_or_method    <built-in function asin>\n",
      "asinh       builtin_function_or_method    <built-in function asinh>\n",
      "atan        builtin_function_or_method    <built-in function atan>\n",
      "atan2       builtin_function_or_method    <built-in function atan2>\n",
      "atanh       builtin_function_or_method    <built-in function atanh>\n",
      "b           bool                          True\n",
      "ceil        builtin_function_or_method    <built-in function ceil>\n",
      "copysign    builtin_function_or_method    <built-in function copysign>\n",
      "cos         builtin_function_or_method    <built-in function cos>\n",
      "cosh        builtin_function_or_method    <built-in function cosh>\n",
      "degrees     builtin_function_or_method    <built-in function degrees>\n",
      "e           float                         2.718281828459045\n",
      "erf         builtin_function_or_method    <built-in function erf>\n",
      "erfc        builtin_function_or_method    <built-in function erfc>\n",
      "exp         builtin_function_or_method    <built-in function exp>\n",
      "expm1       builtin_function_or_method    <built-in function expm1>\n",
      "fabs        builtin_function_or_method    <built-in function fabs>\n",
      "factorial   builtin_function_or_method    <built-in function factorial>\n",
      "floor       builtin_function_or_method    <built-in function floor>\n",
      "fmod        builtin_function_or_method    <built-in function fmod>\n",
      "frexp       builtin_function_or_method    <built-in function frexp>\n",
      "fsum        builtin_function_or_method    <built-in function fsum>\n",
      "gamma       builtin_function_or_method    <built-in function gamma>\n",
      "gcd         builtin_function_or_method    <built-in function gcd>\n",
      "hypot       builtin_function_or_method    <built-in function hypot>\n",
      "inf         float                         inf\n",
      "isclose     builtin_function_or_method    <built-in function isclose>\n",
      "isfinite    builtin_function_or_method    <built-in function isfinite>\n",
      "isinf       builtin_function_or_method    <built-in function isinf>\n",
      "isnan       builtin_function_or_method    <built-in function isnan>\n",
      "keyword     module                        <module 'keyword' from 'c<...>ions37\\\\lib\\\\keyword.py'>\n",
      "ldexp       builtin_function_or_method    <built-in function ldexp>\n",
      "lgamma      builtin_function_or_method    <built-in function lgamma>\n",
      "log         builtin_function_or_method    <built-in function log>\n",
      "log10       builtin_function_or_method    <built-in function log10>\n",
      "log1p       builtin_function_or_method    <built-in function log1p>\n",
      "log2        builtin_function_or_method    <built-in function log2>\n",
      "modf        builtin_function_or_method    <built-in function modf>\n",
      "nan         float                         nan\n",
      "os          module                        <module 'os' from 'c:\\\\Us<...>mulations37\\\\lib\\\\os.py'>\n",
      "pi          float                         3.141592653589793\n",
      "pow         builtin_function_or_method    <built-in function pow>\n",
      "q           float                         1.0\n",
      "radians     builtin_function_or_method    <built-in function radians>\n",
      "remainder   builtin_function_or_method    <built-in function remainder>\n",
      "sin         int                           5\n",
      "sinh        builtin_function_or_method    <built-in function sinh>\n",
      "sqrt        builtin_function_or_method    <built-in function sqrt>\n",
      "sys         module                        <module 'sys' (built-in)>\n",
      "tan         builtin_function_or_method    <built-in function tan>\n",
      "tanh        builtin_function_or_method    <built-in function tanh>\n",
      "tau         float                         6.283185307179586\n",
      "trunc       builtin_function_or_method    <built-in function trunc>\n"
     ]
    }
   ],
   "source": [
    "# так можно посмотреть все доступные переменные\n",
    "# так как мы импортировали все, что есть в модуле math, тут куча всяких переменных\n",
    "%whos\n",
    "# % перед функцией значит, что она может использоваться только в тетрадках"
   ]
  },
  {
   "attachments": {},
   "cell_type": "markdown",
   "metadata": {},
   "source": [
    "## String"
   ]
  },
  {
   "cell_type": "code",
   "execution_count": 38,
   "metadata": {},
   "outputs": [
    {
     "name": "stdout",
     "output_type": "stream",
     "text": [
      "<class 'str'> 1.0\n",
      "q = 1.0000\n",
      "q = 0001\n",
      "what's up\n",
      "\"frogs\"\n"
     ]
    }
   ],
   "source": [
    "q = str(q)\n",
    "print(type(q), q)\n",
    "\n",
    "# форматирование строк\n",
    "q = float(q)\n",
    "print(f'q = {q:.4f}') # 4 знака после запятой \n",
    "print(f'q = {int(q):04d}') # добавить 4 нуля перед числом\n",
    "\n",
    "\n",
    "print(\"what's up\")\n",
    "print('\"frogs\"')"
   ]
  },
  {
   "cell_type": "code",
   "execution_count": 41,
   "metadata": {},
   "outputs": [
    {
     "name": "stdout",
     "output_type": "stream",
     "text": [
      "SOME TEXT\n",
      "some text\n"
     ]
    }
   ],
   "source": [
    "s = 'some text'\n",
    "s = s.upper()\n",
    "print(s)\n",
    "print(s.lower())"
   ]
  },
  {
   "attachments": {},
   "cell_type": "markdown",
   "metadata": {},
   "source": [
    "## Boolean"
   ]
  },
  {
   "attachments": {},
   "cell_type": "markdown",
   "metadata": {},
   "source": [
    "Для булевых переменных все, что не ноль и не None, это True\n"
   ]
  },
  {
   "cell_type": "code",
   "execution_count": 35,
   "metadata": {},
   "outputs": [
    {
     "name": "stdout",
     "output_type": "stream",
     "text": [
      "True\n",
      "False\n",
      "False\n"
     ]
    }
   ],
   "source": [
    "b = bool(5454)\n",
    "print(b)\n",
    "\n",
    "print(bool(0))\n",
    "print(bool(None))\n"
   ]
  },
  {
   "cell_type": "code",
   "execution_count": 37,
   "metadata": {},
   "outputs": [
    {
     "name": "stdout",
     "output_type": "stream",
     "text": [
      "а и б: a & b False\n",
      "а или б: a | b True\n",
      "исключающее или: a ^ b True\n"
     ]
    }
   ],
   "source": [
    "a = True\n",
    "b = False\n",
    "\n",
    "print('а и б: a & b', a & b)\n",
    "print('а или б: a | b', a | b)\n",
    "print('исключающее или: a ^ b', a ^ b)"
   ]
  },
  {
   "attachments": {},
   "cell_type": "markdown",
   "metadata": {},
   "source": [
    "None - особый тип, обозначающий абсолютное ничто. Обычно используется как дефолтное значение в функциях. Но если None получился как аутпут функции, значит что-то пошло не так"
   ]
  },
  {
   "cell_type": "code",
   "execution_count": 31,
   "metadata": {},
   "outputs": [
    {
     "ename": "TypeError",
     "evalue": "unsupported operand type(s) for +: 'NoneType' and 'int'",
     "output_type": "error",
     "traceback": [
      "\u001b[1;31m---------------------------------------------------------------------------\u001b[0m",
      "\u001b[1;31mTypeError\u001b[0m                                 Traceback (most recent call last)",
      "\u001b[1;32m~\\AppData\\Local\\Temp\\ipykernel_9212\\1067963352.py\u001b[0m in \u001b[0;36m<module>\u001b[1;34m\u001b[0m\n\u001b[0;32m      1\u001b[0m \u001b[0mr\u001b[0m \u001b[1;33m=\u001b[0m \u001b[1;32mNone\u001b[0m\u001b[1;33m\u001b[0m\u001b[1;33m\u001b[0m\u001b[0m\n\u001b[1;32m----> 2\u001b[1;33m \u001b[0mr\u001b[0m \u001b[1;33m+\u001b[0m \u001b[1;36m2\u001b[0m\u001b[1;33m\u001b[0m\u001b[1;33m\u001b[0m\u001b[0m\n\u001b[0m",
      "\u001b[1;31mTypeError\u001b[0m: unsupported operand type(s) for +: 'NoneType' and 'int'"
     ]
    }
   ],
   "source": [
    "# с None нельзя работать\n",
    "r = None\n",
    "r + 2"
   ]
  },
  {
   "attachments": {},
   "cell_type": "markdown",
   "metadata": {},
   "source": [
    "## List"
   ]
  },
  {
   "attachments": {},
   "cell_type": "markdown",
   "metadata": {},
   "source": [
    "Список это такой тип данных, в котором может храниться что угодно."
   ]
  },
  {
   "cell_type": "code",
   "execution_count": 98,
   "metadata": {},
   "outputs": [
    {
     "name": "stdout",
     "output_type": "stream",
     "text": [
      "[1, 3, [1, 1], '???', <built-in function cos>]\n"
     ]
    }
   ],
   "source": [
    "l = [1, 3, [1, 1], '???', cos]\n",
    "print(l)"
   ]
  },
  {
   "cell_type": "code",
   "execution_count": 99,
   "metadata": {},
   "outputs": [
    {
     "name": "stdout",
     "output_type": "stream",
     "text": [
      "первый элемент (индекс 0) 1\n",
      "последний элемент 5\n",
      "элементы с 1 по 3 [1, 2, 3]\n",
      "последние 2 элемента [4, 5]\n",
      "все элементы до предпоследнего [1, 2, 3]\n"
     ]
    }
   ],
   "source": [
    "l = [1, 2, 3, 4, 5]\n",
    "# индексирование начинается с 0\n",
    "print('первый элемент (индекс 0)', l[0])\n",
    "print('последний элемент', l[-1])\n",
    "\n",
    "# когда мы хотим взять несколько элементов\n",
    "# пишем начальный и последний, но последний не включается\n",
    "print('элементы с 1 по 3', l[0:3])\n",
    "\n",
    "\n",
    "print('последние 2 элемента', l[-2:])\n",
    "print('все элементы до предпоследнего', l[:-2])\n"
   ]
  },
  {
   "cell_type": "code",
   "execution_count": null,
   "metadata": {},
   "outputs": [],
   "source": [
    "# по индексу можно изменять элементы\n",
    "l[0] = 7"
   ]
  },
  {
   "cell_type": "code",
   "execution_count": 100,
   "metadata": {},
   "outputs": [
    {
     "name": "stdout",
     "output_type": "stream",
     "text": [
      "длина списка 5\n",
      "[33, 1, 2, 3, 4, 5, 22, 55, 66, 77]\n",
      "[33, 1, 2, 3, 4, 5, 22, 55, 66, 77, [88, 99]]\n"
     ]
    }
   ],
   "source": [
    "print('длина списка', len(l))\n",
    "\n",
    "# добавлять в список\n",
    "# при использовании этих методов изменяется уже существующий список\n",
    "l.append(22) # добавить в конец списка\n",
    "l.insert(0, 33) # добавить 33 по индексу 0\n",
    "l.extend([55, 66, 77]) # добавить элементы из указанного списка в конец списка l\n",
    "print(l)\n",
    "\n",
    "# с помощью append и insert можно добавлять и другие списки\n",
    "l.append([88, 99])\n",
    "print(l)\n"
   ]
  },
  {
   "attachments": {},
   "cell_type": "markdown",
   "metadata": {},
   "source": [
    "У списков есть один прикол, который становится часто причиной ошибок:"
   ]
  },
  {
   "cell_type": "code",
   "execution_count": 101,
   "metadata": {},
   "outputs": [
    {
     "name": "stdout",
     "output_type": "stream",
     "text": [
      "[33, 1, 2, 3, 4, 5, 22, 55, 66, 77, [88, 99], 220]\n",
      "[33, 1, 2, 3, 4, 5, 22, 55, 66, 77, [88, 99], 220, 4444]\n",
      "[33, 1, 2, 3, 4, 5, 22, 55, 66, 77, [88, 99], 220, 4444]\n"
     ]
    }
   ],
   "source": [
    "# Если мы хотим сохранить список в другой переменной\n",
    "w = l # так делать нельзя, потому что в этом случае список w просто ссылается на список l\n",
    "# если мы добавим новый элемент в список l\n",
    "l.append(220)\n",
    "# список w тоже изменится, потому что обе переменные по сути ссылаются на один и тот же список\n",
    "print(w)\n",
    "# если добавить что-то в список w, список l тоже изменится\n",
    "w.append(4444)\n",
    "print(l)\n",
    "\n",
    "# чтобы этого измежать нужно присваивать переменной значения из списка\n",
    "ww = l[:] # тут мы берем из l все значения\n",
    "\n",
    "# или делать копию изначального списка\n",
    "from copy import deepcopy\n",
    "www = deepcopy(l)\n",
    "l.append(110)\n",
    "print(www)"
   ]
  },
  {
   "attachments": {},
   "cell_type": "markdown",
   "metadata": {},
   "source": [
    "Списки это не матрицы. С ними математические операции работают не так, как хотелось бы:"
   ]
  },
  {
   "cell_type": "code",
   "execution_count": 102,
   "metadata": {},
   "outputs": [
    {
     "name": "stdout",
     "output_type": "stream",
     "text": [
      "[1, 2, 3, 4, 5, 6]\n",
      "[1, 2, 3, 1, 2, 3]\n"
     ]
    }
   ],
   "source": [
    "a = [1, 2, 3]\n",
    "b = [4, 5, 6]\n",
    "\n",
    "# список + список = новый список\n",
    "print(a + b)\n",
    "# список * int = повторение списка int раз \n",
    "print(a * 2)"
   ]
  },
  {
   "cell_type": "code",
   "execution_count": 86,
   "metadata": {},
   "outputs": [
    {
     "ename": "TypeError",
     "evalue": "unsupported operand type(s) for -: 'list' and 'int'",
     "output_type": "error",
     "traceback": [
      "\u001b[1;31m---------------------------------------------------------------------------\u001b[0m",
      "\u001b[1;31mTypeError\u001b[0m                                 Traceback (most recent call last)",
      "\u001b[1;32m~\\AppData\\Local\\Temp\\ipykernel_9212\\3279037286.py\u001b[0m in \u001b[0;36m<module>\u001b[1;34m\u001b[0m\n\u001b[0;32m      1\u001b[0m \u001b[1;31m# другие операции не будут работать\u001b[0m\u001b[1;33m\u001b[0m\u001b[1;33m\u001b[0m\u001b[1;33m\u001b[0m\u001b[0m\n\u001b[1;32m----> 2\u001b[1;33m \u001b[0mprint\u001b[0m\u001b[1;33m(\u001b[0m\u001b[0ma\u001b[0m \u001b[1;33m-\u001b[0m \u001b[1;36m3\u001b[0m\u001b[1;33m)\u001b[0m\u001b[1;33m\u001b[0m\u001b[1;33m\u001b[0m\u001b[0m\n\u001b[0m",
      "\u001b[1;31mTypeError\u001b[0m: unsupported operand type(s) for -: 'list' and 'int'"
     ]
    }
   ],
   "source": [
    "# другие операции не будут работать\n",
    "print(a - 3)"
   ]
  },
  {
   "attachments": {},
   "cell_type": "markdown",
   "metadata": {},
   "source": [
    "## Tuple"
   ]
  },
  {
   "attachments": {},
   "cell_type": "markdown",
   "metadata": {},
   "source": [
    "В кортежах может тоже храниться что угодно. Но в отличие от списков кортежи нельзя изменять"
   ]
  },
  {
   "cell_type": "code",
   "execution_count": 112,
   "metadata": {},
   "outputs": [],
   "source": [
    "t = (2, '3', [2], cos)"
   ]
  },
  {
   "cell_type": "code",
   "execution_count": 113,
   "metadata": {},
   "outputs": [
    {
     "ename": "TypeError",
     "evalue": "'tuple' object does not support item assignment",
     "output_type": "error",
     "traceback": [
      "\u001b[1;31m---------------------------------------------------------------------------\u001b[0m",
      "\u001b[1;31mTypeError\u001b[0m                                 Traceback (most recent call last)",
      "\u001b[1;32m~\\AppData\\Local\\Temp\\ipykernel_9212\\2073898226.py\u001b[0m in \u001b[0;36m<module>\u001b[1;34m\u001b[0m\n\u001b[1;32m----> 1\u001b[1;33m \u001b[0mt\u001b[0m\u001b[1;33m[\u001b[0m\u001b[1;36m0\u001b[0m\u001b[1;33m]\u001b[0m \u001b[1;33m=\u001b[0m \u001b[1;36m7\u001b[0m\u001b[1;33m\u001b[0m\u001b[1;33m\u001b[0m\u001b[0m\n\u001b[0m",
      "\u001b[1;31mTypeError\u001b[0m: 'tuple' object does not support item assignment"
     ]
    }
   ],
   "source": [
    "# изменять уже существующие элементы нельзя\n",
    "t[0] = 7"
   ]
  },
  {
   "cell_type": "code",
   "execution_count": 105,
   "metadata": {},
   "outputs": [
    {
     "name": "stdout",
     "output_type": "stream",
     "text": [
      "[2, '3', [2], <built-in function cos>]\n",
      "(33, 1, 2, 3, 4, 5, 22, 55, 66, 77, [88, 99], 220, 4444, 110)\n"
     ]
    }
   ],
   "source": [
    "# можно из кортежа сделать список и наоборот\n",
    "print(list(t))\n",
    "print(tuple(l))"
   ]
  },
  {
   "cell_type": "code",
   "execution_count": 106,
   "metadata": {},
   "outputs": [
    {
     "name": "stdout",
     "output_type": "stream",
     "text": [
      "2\n",
      "('3', [2])\n"
     ]
    }
   ],
   "source": [
    "# кортежи можно резать так же как и списки\n",
    "print(t[0])\n",
    "print(t[1:3])"
   ]
  },
  {
   "cell_type": "code",
   "execution_count": 109,
   "metadata": {},
   "outputs": [
    {
     "name": "stdout",
     "output_type": "stream",
     "text": [
      "(2, '3', [2], <built-in function cos>, 2, '3', [2], <built-in function cos>)\n",
      "(2, '3', [2], <built-in function cos>, 9, 9)\n"
     ]
    }
   ],
   "source": [
    "# арифметические операции работают так же так в списках\n",
    "print(t * 2)\n",
    "print(t + (9, 9))"
   ]
  },
  {
   "attachments": {},
   "cell_type": "markdown",
   "metadata": {},
   "source": [
    "## Dictionary"
   ]
  },
  {
   "attachments": {},
   "cell_type": "markdown",
   "metadata": {},
   "source": [
    "Словарь - реализация хэш таблицы. Это штука, в которой хранятся значения и ключи, по которым их можно быстро получить"
   ]
  },
  {
   "cell_type": "code",
   "execution_count": 2,
   "metadata": {},
   "outputs": [
    {
     "name": "stdout",
     "output_type": "stream",
     "text": [
      "значение\n",
      "cos\n",
      "5\n"
     ]
    }
   ],
   "source": [
    "d = {'ключ': 'значение',\n",
    "      4: 5,\n",
    "      1: 'cos'}\n",
    "\n",
    "# поиск значения по ключу\n",
    "print(d['ключ'])\n",
    "print(d[1])\n",
    "print(d[4])"
   ]
  },
  {
   "cell_type": "code",
   "execution_count": 3,
   "metadata": {},
   "outputs": [
    {
     "name": "stdout",
     "output_type": "stream",
     "text": [
      "{'ключ': 'новое значение по старому ключу', 4: 5, 1: 'cos', 'новый ключ': 'новое значение'}\n"
     ]
    }
   ],
   "source": [
    "d['новый ключ'] = 'новое значение'\n",
    "d['ключ'] = 'новое значение по старому ключу'\n",
    "print(d)"
   ]
  },
  {
   "cell_type": "code",
   "execution_count": 4,
   "metadata": {},
   "outputs": [
    {
     "data": {
      "text/plain": [
       "dict_keys(['ключ', 4, 1, 'новый ключ'])"
      ]
     },
     "execution_count": 4,
     "metadata": {},
     "output_type": "execute_result"
    }
   ],
   "source": [
    "d.keys()"
   ]
  },
  {
   "cell_type": "code",
   "execution_count": 5,
   "metadata": {},
   "outputs": [
    {
     "data": {
      "text/plain": [
       "dict_values(['новое значение по старому ключу', 5, 'cos', 'новое значение'])"
      ]
     },
     "execution_count": 5,
     "metadata": {},
     "output_type": "execute_result"
    }
   ],
   "source": [
    "d.values()"
   ]
  },
  {
   "cell_type": "code",
   "execution_count": 7,
   "metadata": {},
   "outputs": [
    {
     "name": "stdout",
     "output_type": "stream",
     "text": [
      "ключ\n",
      "4\n",
      "1\n",
      "новый ключ\n"
     ]
    }
   ],
   "source": [
    "for key in d:\n",
    "    print(key)"
   ]
  },
  {
   "attachments": {},
   "cell_type": "markdown",
   "metadata": {},
   "source": [
    "## Numpy array"
   ]
  },
  {
   "attachments": {},
   "cell_type": "markdown",
   "metadata": {},
   "source": [
    "Сами по себе матрицы в питоне не реализованы. Можно использовать nested lists (это когда список из списков), но математические операции все еще недоступны. Обычно используют пакет numpy для работы с матрицами. "
   ]
  },
  {
   "cell_type": "code",
   "execution_count": 118,
   "metadata": {},
   "outputs": [
    {
     "name": "stdout",
     "output_type": "stream",
     "text": [
      "[[1 2 3]\n",
      " [4 5 6]\n",
      " [7 8 9]]\n",
      "матрица размера (3, 3)\n"
     ]
    }
   ],
   "source": [
    "# импортируем numpy с более коротким именем\n",
    "import numpy as np\n",
    "\n",
    "# array можно создать из списка или кортежа\n",
    "to_array = [[1, 2, 3],\n",
    "            [4, 5, 6],\n",
    "            [7, 8, 9]]\n",
    "\n",
    "a = np.array(to_array)\n",
    "print(a)\n",
    "print('матрица размера', a.shape)"
   ]
  },
  {
   "cell_type": "code",
   "execution_count": 124,
   "metadata": {},
   "outputs": [
    {
     "name": "stdout",
     "output_type": "stream",
     "text": [
      "сложение\n",
      " [[ 2.  3.  4.]\n",
      " [ 5.  6.  7.]\n",
      " [ 8.  9. 10.]]\n",
      "поэлементное умножение матрицы на матрицу и на число\n",
      " [[ 8. 16. 24.]\n",
      " [32. 40. 48.]\n",
      " [56. 64. 72.]]\n",
      "матричное умножение\n",
      " [[ 6.  6.  6.]\n",
      " [15. 15. 15.]\n",
      " [24. 24. 24.]]\n",
      "матричное умножение\n",
      " [[ 6.  6.  6.]\n",
      " [15. 15. 15.]\n",
      " [24. 24. 24.]]\n"
     ]
    }
   ],
   "source": [
    "b = np.ones((3, 3)) # создаем массив с единицами размера 3,3 \n",
    "\n",
    "print('сложение\\n', a + b)\n",
    "print('поэлементное умножение матрицы на матрицу и на число\\n', a * b * 8)\n",
    "print('матричное умножение\\n', a @ b) \n",
    "print('матричное умножение\\n', a.dot(b))\n"
   ]
  },
  {
   "attachments": {},
   "cell_type": "markdown",
   "metadata": {},
   "source": [
    "# Циклы"
   ]
  },
  {
   "cell_type": "code",
   "execution_count": 125,
   "metadata": {},
   "outputs": [
    {
     "name": "stdout",
     "output_type": "stream",
     "text": [
      "0\n",
      "1\n",
      "2\n",
      "3\n",
      "4\n"
     ]
    }
   ],
   "source": [
    "for i in range(5):\n",
    "    print(i)"
   ]
  },
  {
   "cell_type": "code",
   "execution_count": 132,
   "metadata": {},
   "outputs": [
    {
     "name": "stdout",
     "output_type": "stream",
     "text": [
      "1\n",
      "4\n",
      "7\n"
     ]
    }
   ],
   "source": [
    "# с единицы до 10 с шагом 3\n",
    "for i in range(1, 10, 3):\n",
    "    print(i)"
   ]
  },
  {
   "cell_type": "code",
   "execution_count": 131,
   "metadata": {},
   "outputs": [
    {
     "name": "stdout",
     "output_type": "stream",
     "text": [
      "5\n",
      "4\n",
      "3\n",
      "2\n",
      "1\n"
     ]
    }
   ],
   "source": [
    "# с 5 до 0 с шагом -1\n",
    "for i in range(5, 0, -1):\n",
    "    print(i)"
   ]
  },
  {
   "attachments": {},
   "cell_type": "markdown",
   "metadata": {},
   "source": [
    "Можно итерироваться по строкам, элементам списков, кортежей"
   ]
  },
  {
   "cell_type": "code",
   "execution_count": 126,
   "metadata": {},
   "outputs": [
    {
     "name": "stdout",
     "output_type": "stream",
     "text": [
      "f\n",
      "r\n",
      "o\n",
      "g\n",
      "s\n"
     ]
    }
   ],
   "source": [
    "for i in 'frogs':\n",
    "    print(i)"
   ]
  },
  {
   "cell_type": "code",
   "execution_count": 127,
   "metadata": {},
   "outputs": [
    {
     "name": "stdout",
     "output_type": "stream",
     "text": [
      "1\n",
      "3\n",
      "4\n",
      "8\n",
      "6\n"
     ]
    }
   ],
   "source": [
    "l = [1, 3, 4, 8, 6]\n",
    "for i in l:\n",
    "    print(i)"
   ]
  },
  {
   "cell_type": "code",
   "execution_count": 133,
   "metadata": {},
   "outputs": [
    {
     "name": "stdout",
     "output_type": "stream",
     "text": [
      "0\n",
      "5\n"
     ]
    }
   ],
   "source": [
    "i = 0\n",
    "while i < 10:\n",
    "    print(i)\n",
    "    i += 5"
   ]
  },
  {
   "attachments": {},
   "cell_type": "markdown",
   "metadata": {},
   "source": [
    "# Условия"
   ]
  },
  {
   "cell_type": "code",
   "execution_count": 135,
   "metadata": {},
   "outputs": [
    {
     "name": "stdout",
     "output_type": "stream",
     "text": [
      "even\n",
      "odd\n",
      "even\n",
      "odd\n",
      "even\n",
      "odd\n",
      "even\n",
      "odd\n",
      "even\n",
      "odd\n"
     ]
    }
   ],
   "source": [
    "for i in range(10):\n",
    "    if i % 2 == 0:\n",
    "        print('even')\n",
    "    elif i % 2 != 0:\n",
    "        print('odd')\n",
    "    else:\n",
    "        print('??')"
   ]
  },
  {
   "cell_type": "code",
   "execution_count": 136,
   "metadata": {},
   "outputs": [
    {
     "data": {
      "text/plain": [
       "True"
      ]
     },
     "execution_count": 136,
     "metadata": {},
     "output_type": "execute_result"
    }
   ],
   "source": [
    "s = 'some string'\n",
    "'string' in s"
   ]
  },
  {
   "cell_type": "code",
   "execution_count": 137,
   "metadata": {},
   "outputs": [
    {
     "name": "stdout",
     "output_type": "stream",
     "text": [
      "None detected\n"
     ]
    }
   ],
   "source": [
    "for i in [1, 2, 3, None]:\n",
    "    if i is None:\n",
    "        print('None detected')"
   ]
  },
  {
   "attachments": {},
   "cell_type": "markdown",
   "metadata": {},
   "source": []
  }
 ],
 "metadata": {
  "kernelspec": {
   "display_name": "simulations37",
   "language": "python",
   "name": "python3"
  },
  "language_info": {
   "codemirror_mode": {
    "name": "ipython",
    "version": 3
   },
   "file_extension": ".py",
   "mimetype": "text/x-python",
   "name": "python",
   "nbconvert_exporter": "python",
   "pygments_lexer": "ipython3",
   "version": "3.7.15 (default, Nov 24 2022, 18:44:54) [MSC v.1916 64 bit (AMD64)]"
  },
  "orig_nbformat": 4,
  "vscode": {
   "interpreter": {
    "hash": "250f082710eb5ec112c137a980146f053452169fd4a50aa2f4ab29824db54710"
   }
  }
 },
 "nbformat": 4,
 "nbformat_minor": 2
}
